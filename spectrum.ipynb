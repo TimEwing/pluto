{
 "cells": [
  {
   "cell_type": "code",
   "execution_count": 1,
   "metadata": {},
   "outputs": [],
   "source": [
    "# Enable autoloading for utils.py and convert.py\n",
    "%load_ext autoreload\n",
    "%autoreload 2"
   ]
  },
  {
   "cell_type": "code",
   "execution_count": 2,
   "metadata": {},
   "outputs": [],
   "source": [
    "from scipy.io.idl import readsav\n",
    "import matplotlib.pyplot as plt\n",
    "import numpy as np\n",
    "import utils\n",
    "from utils import S\n",
    "import convert\n",
    "import csv"
   ]
  },
  {
   "cell_type": "code",
   "execution_count": 4,
   "metadata": {},
   "outputs": [
    {
     "name": "stdout",
     "output_type": "stream",
     "text": [
      "Warning, 6 of 3739 bins contained negative fluxes; they have been set to zero.\n"
     ]
    },
    {
     "data": {
      "text/plain": [
       "[<matplotlib.lines.Line2D at 0x7f26d56b9b00>]"
      ]
     },
     "execution_count": 4,
     "metadata": {},
     "output_type": "execute_result"
    },
    {
     "data": {
      "image/png": "[encoded data removed]",
      "text/plain": [
       "<Figure size 432x288 with 1 Axes>"
      ]
     },
     "metadata": {
      "needs_background": "light"
     },
     "output_type": "display_data"
    }
   ],
   "source": [
    "hd_spectrum = utils.get_hd_spectrum()\n",
    "hd_spectrum.convert('Angstrom')\n",
    "hd_spectrum.convert('flam')\n",
    "plt.plot(hd_spectrum.wave, hd_spectrum.flux)\n",
    "hd_spectrum = normalize_spectrum(\n",
    "    spectrum=hd_spectrum,\n",
    "    pivot_wavelength=nh_observation[f'{input_bandpass_name}_pivot_wavelength'],\n",
    "    calib_flux=nh_observation[f'{input_bandpass_name}_calib_flux'],\n",
    "    input_obs_to_target=1,\n",
    "    input_target_to_sun=1,\n",
    "    output_obs_to_target=1,\n",
    "    output_target_to_sun=1,\n",
    ")"
   ]
  },
  {
   "cell_type": "code",
   "execution_count": 5,
   "metadata": {},
   "outputs": [],
   "source": [
    "# gain is 58.5 e-/count\n",
    "observed = {\n",
    "    'blue': 188.6 * 58.5, \n",
    "    'red': 527.8 * 58.5, \n",
    "    'nir': 347.5 * 58.5, \n",
    "    'ch4': 97.0 * 58.5,\n",
    "}\n",
    "# TODO: multiply by exposure times\n"
   ]
  },
  {
   "cell_type": "code",
   "execution_count": null,
   "metadata": {},
   "outputs": [],
   "source": []
  }
 ],
 "metadata": {
  "kernelspec": {
   "display_name": "Python 3",
   "language": "python",
   "name": "python3"
  },
  "language_info": {
   "codemirror_mode": {
    "name": "ipython",
    "version": 3
   },
   "file_extension": ".py",
   "mimetype": "text/x-python",
   "name": "python",
   "nbconvert_exporter": "python",
   "pygments_lexer": "ipython3",
   "version": "3.7.0"
  }
 },
 "nbformat": 4,
 "nbformat_minor": 4
}
